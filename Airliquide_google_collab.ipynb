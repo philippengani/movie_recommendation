{
  "nbformat": 4,
  "nbformat_minor": 0,
  "metadata": {
    "colab": {
      "name": "Airliquide_google_collab.ipynb",
      "provenance": [],
      "authorship_tag": "ABX9TyOyN0eafijtq+bC0v/MO8/r",
      "include_colab_link": true
    },
    "kernelspec": {
      "name": "python3",
      "display_name": "Python 3"
    },
    "language_info": {
      "name": "python"
    }
  },
  "cells": [
    {
      "cell_type": "markdown",
      "metadata": {
        "id": "view-in-github",
        "colab_type": "text"
      },
      "source": [
        "<a href=\"https://colab.research.google.com/github/philippengani/movie_recommendation/blob/master/Airliquide_google_collab.ipynb\" target=\"_parent\"><img src=\"https://colab.research.google.com/assets/colab-badge.svg\" alt=\"Open In Colab\"/></a>"
      ]
    },
    {
      "cell_type": "markdown",
      "metadata": {
        "id": "oHROzvb6RR_B"
      },
      "source": [
        "Let's setup Spark on your Colab environment. Run the cell below!\n"
      ]
    },
    {
      "cell_type": "code",
      "metadata": {
        "colab": {
          "base_uri": "https://localhost:8080/"
        },
        "id": "6JMAP97VRPJc",
        "outputId": "535c9ff7-b839-4f58-95bc-8f567a2ea742"
      },
      "source": [
        "!pip install pyspark\n",
        "!pip install -U -q PyDrive\n",
        "!apt install openjdk-8-jdk-headless -qq\n",
        "!pip install keras\n",
        "!pip install scikit-surprise\n",
        "import os\n",
        "os.environ[\"JAVA_HOME\"] = \"/usr/lib/jvm/java-8-openjdk-amd64\"\n",
        "!pip install findspark"
      ],
      "execution_count": 1,
      "outputs": [
        {
          "output_type": "stream",
          "text": [
            "Requirement already satisfied: pyspark in /usr/local/lib/python3.7/dist-packages (3.1.2)\n",
            "Requirement already satisfied: py4j==0.10.9 in /usr/local/lib/python3.7/dist-packages (from pyspark) (0.10.9)\n",
            "openjdk-8-jdk-headless is already the newest version (8u292-b10-0ubuntu1~18.04).\n",
            "0 upgraded, 0 newly installed, 0 to remove and 39 not upgraded.\n",
            "Requirement already satisfied: keras in /usr/local/lib/python3.7/dist-packages (2.4.3)\n",
            "Requirement already satisfied: scipy>=0.14 in /usr/local/lib/python3.7/dist-packages (from keras) (1.4.1)\n",
            "Requirement already satisfied: h5py in /usr/local/lib/python3.7/dist-packages (from keras) (3.1.0)\n",
            "Requirement already satisfied: pyyaml in /usr/local/lib/python3.7/dist-packages (from keras) (3.13)\n",
            "Requirement already satisfied: numpy>=1.9.1 in /usr/local/lib/python3.7/dist-packages (from keras) (1.19.5)\n",
            "Requirement already satisfied: cached-property; python_version < \"3.8\" in /usr/local/lib/python3.7/dist-packages (from h5py->keras) (1.5.2)\n",
            "Requirement already satisfied: scikit-surprise in /usr/local/lib/python3.7/dist-packages (1.1.1)\n",
            "Requirement already satisfied: scipy>=1.0.0 in /usr/local/lib/python3.7/dist-packages (from scikit-surprise) (1.4.1)\n",
            "Requirement already satisfied: six>=1.10.0 in /usr/local/lib/python3.7/dist-packages (from scikit-surprise) (1.15.0)\n",
            "Requirement already satisfied: joblib>=0.11 in /usr/local/lib/python3.7/dist-packages (from scikit-surprise) (1.0.1)\n",
            "Requirement already satisfied: numpy>=1.11.2 in /usr/local/lib/python3.7/dist-packages (from scikit-surprise) (1.19.5)\n",
            "Requirement already satisfied: findspark in /usr/local/lib/python3.7/dist-packages (1.4.2)\n"
          ],
          "name": "stdout"
        }
      ]
    },
    {
      "cell_type": "code",
      "metadata": {
        "id": "HPRcHRTOOYGM"
      },
      "source": [
        "import pandas as pd\n",
        "from pyspark import SparkConf, SparkContext, sql\n",
        "from pyspark.sql import SparkSession\n",
        "import pyspark\n",
        "from pyspark.sql import *\n",
        "from pyspark.sql.types import *\n",
        "from pyspark.sql.functions import *\n",
        "from pyspark import SparkContext, SparkConf\n",
        "import findspark\n",
        "findspark.add_packages('mysql:mysql-connector-java:8.0.11')\n",
        "import keras\n",
        "import os.path\n",
        "from os import path\n",
        "from zipfile import ZipFile\n"
      ],
      "execution_count": 2,
      "outputs": []
    },
    {
      "cell_type": "markdown",
      "metadata": {
        "id": "q6I5Nx1YW2NG"
      },
      "source": [
        "# **1. Download the movie lens dataset and extract** "
      ]
    },
    {
      "cell_type": "code",
      "metadata": {
        "colab": {
          "base_uri": "https://localhost:8080/"
        },
        "id": "VVWN2wl0Rl2X",
        "outputId": "ed862e24-fdc7-4071-cbb1-65fd976475d7"
      },
      "source": [
        "# Download the actual data from http://files.grouplens.org/datasets/movielens/ml-latest-small.zip\"\n",
        "dataset_path = \"/content/dataset\"\n",
        "\n",
        "if not path.exists(dataset_path):\n",
        "  !mkdir /content/dataset\n",
        "  #!wget -P /content/dataset https://files.grouplens.org/datasets/movielens/ml-25m.zip\n",
        "  !wget -P /content/dataset https://files.grouplens.org/datasets/movielens/ml-latest-small.zip\n",
        "else:\n",
        "  print(\"dataset already exist. No need to download \")\n"
      ],
      "execution_count": 3,
      "outputs": [
        {
          "output_type": "stream",
          "text": [
            "dataset already exist. No need to download \n"
          ],
          "name": "stdout"
        }
      ]
    },
    {
      "cell_type": "code",
      "metadata": {
        "id": "XM0Urcd-XqNl"
      },
      "source": [
        ""
      ],
      "execution_count": 3,
      "outputs": []
    },
    {
      "cell_type": "code",
      "metadata": {
        "colab": {
          "base_uri": "https://localhost:8080/"
        },
        "id": "lbbTsBYLXqsM",
        "outputId": "149d5af1-bf2d-4788-a61e-b80ab24d7d6f"
      },
      "source": [
        "# Only extract the data the first time the script is run.\n",
        "movielens_dir = dataset_path + \"/ml-latest-small\"\n",
        "movielens_zipped_file = dataset_path + \"/ml-latest-small.zip\"\n",
        "\n",
        "if not path.exists(movielens_dir):\n",
        "    with ZipFile(movielens_zipped_file, \"r\") as z:\n",
        "        # Extract files\n",
        "        print(\"Extracting all the files now...\")\n",
        "        z.extractall(path=dataset_path)\n",
        "        print(\"Done!\")\n",
        "else:\n",
        "   print(\"dataset already exist. No need to extract \")\n"
      ],
      "execution_count": 4,
      "outputs": [
        {
          "output_type": "stream",
          "text": [
            "dataset already exist. No need to extract \n"
          ],
          "name": "stdout"
        }
      ]
    },
    {
      "cell_type": "markdown",
      "metadata": {
        "id": "K_dvBEIbfwad"
      },
      "source": [
        "# **2. Setup the big data environment with pyspark**"
      ]
    },
    {
      "cell_type": "code",
      "metadata": {
        "id": "QeO3m6r2fI_Q"
      },
      "source": [
        "# create the session\n",
        "conf = SparkConf().set(\"spark.ui.port\", \"4050\")\n",
        "# create the context\n",
        "sc = SparkContext(conf=conf)\n",
        "\n",
        "spark = SparkSession \\\n",
        "    .builder \\\n",
        "    .appName(\"Movie recommendation\") \\\n",
        "    .getOrCreate()\n"
      ],
      "execution_count": 5,
      "outputs": []
    },
    {
      "cell_type": "code",
      "metadata": {
        "colab": {
          "base_uri": "https://localhost:8080/",
          "height": 213
        },
        "id": "NOnHeue9gIax",
        "outputId": "c8b92046-845b-4b1a-c695-c76f72572b35"
      },
      "source": [
        "spark"
      ],
      "execution_count": 6,
      "outputs": [
        {
          "output_type": "execute_result",
          "data": {
            "text/html": [
              "\n",
              "            <div>\n",
              "                <p><b>SparkSession - in-memory</b></p>\n",
              "                \n",
              "        <div>\n",
              "            <p><b>SparkContext</b></p>\n",
              "\n",
              "            <p><a href=\"http://090a3b0d0942:4050\">Spark UI</a></p>\n",
              "\n",
              "            <dl>\n",
              "              <dt>Version</dt>\n",
              "                <dd><code>v3.1.2</code></dd>\n",
              "              <dt>Master</dt>\n",
              "                <dd><code>local[*]</code></dd>\n",
              "              <dt>AppName</dt>\n",
              "                <dd><code>pyspark-shell</code></dd>\n",
              "            </dl>\n",
              "        </div>\n",
              "        \n",
              "            </div>\n",
              "        "
            ],
            "text/plain": [
              "<pyspark.sql.session.SparkSession at 0x7f44b8f66390>"
            ]
          },
          "metadata": {
            "tags": []
          },
          "execution_count": 6
        }
      ]
    },
    {
      "cell_type": "markdown",
      "metadata": {
        "id": "aFViQ0YEgODU"
      },
      "source": [
        "# **3. Data exploration and cleaning**\n",
        "\n",
        "\n",
        "**a .Reading the downloaded movie dataset to pyspark dataframe**\n",
        "\n"
      ]
    },
    {
      "cell_type": "code",
      "metadata": {
        "colab": {
          "base_uri": "https://localhost:8080/"
        },
        "id": "jSAwBblbgLFO",
        "outputId": "c63935a6-62a1-4c05-cd98-1cdb52e22abe"
      },
      "source": [
        "ratings_file = movielens_dir + \"/ratings.csv\"\n",
        "movies_file = movielens_dir + \"/movies.csv\"\n",
        "\n",
        "\n",
        "# Define the dataset schema \n",
        "\n",
        "from pyspark.sql.types import *\n",
        "\n",
        "ratings_df_schema = StructType(\n",
        "  [StructField('userId', IntegerType()),\n",
        "   StructField('movieId', IntegerType()),\n",
        "   StructField('rating', DoubleType())]\n",
        ")\n",
        "movies_df_schema = StructType(\n",
        "  [StructField('movieId', IntegerType()),\n",
        "   StructField('title', StringType()),\n",
        "   StructField('genres', StringType())]\n",
        ")\n",
        "\n",
        "# creating the pyspark dataframes and cache in memory\n",
        "\n",
        "ratings_df = spark.read\\\n",
        "                  .options(header =True, inferSchema=False)\\\n",
        "                  .schema(ratings_df_schema)\\\n",
        "                  .csv(ratings_file)\n",
        "movies_df = spark.read\\\n",
        "                .options(header =True, inferSchema=False)\\\n",
        "                .schema(movies_df_schema)\\\n",
        "                .csv(movies_file)\n",
        "\n",
        "ratings_df.cache()\n",
        "movies_df.cache()"
      ],
      "execution_count": 7,
      "outputs": [
        {
          "output_type": "execute_result",
          "data": {
            "text/plain": [
              "DataFrame[movieId: int, title: string, genres: string]"
            ]
          },
          "metadata": {
            "tags": []
          },
          "execution_count": 7
        }
      ]
    },
    {
      "cell_type": "code",
      "metadata": {
        "colab": {
          "base_uri": "https://localhost:8080/"
        },
        "id": "1oAFYqzShHuj",
        "outputId": "6948e140-afc9-4521-9dd5-2a5472de58f0"
      },
      "source": [
        "ratings_df.show(10, truncate=False)\n",
        "movies_df.show(10, truncate=False)"
      ],
      "execution_count": 8,
      "outputs": [
        {
          "output_type": "stream",
          "text": [
            "+------+-------+------+\n",
            "|userId|movieId|rating|\n",
            "+------+-------+------+\n",
            "|1     |1      |4.0   |\n",
            "|1     |3      |4.0   |\n",
            "|1     |6      |4.0   |\n",
            "|1     |47     |5.0   |\n",
            "|1     |50     |5.0   |\n",
            "|1     |70     |3.0   |\n",
            "|1     |101    |5.0   |\n",
            "|1     |110    |4.0   |\n",
            "|1     |151    |5.0   |\n",
            "|1     |157    |5.0   |\n",
            "+------+-------+------+\n",
            "only showing top 10 rows\n",
            "\n",
            "+-------+----------------------------------+-------------------------------------------+\n",
            "|movieId|title                             |genres                                     |\n",
            "+-------+----------------------------------+-------------------------------------------+\n",
            "|1      |Toy Story (1995)                  |Adventure|Animation|Children|Comedy|Fantasy|\n",
            "|2      |Jumanji (1995)                    |Adventure|Children|Fantasy                 |\n",
            "|3      |Grumpier Old Men (1995)           |Comedy|Romance                             |\n",
            "|4      |Waiting to Exhale (1995)          |Comedy|Drama|Romance                       |\n",
            "|5      |Father of the Bride Part II (1995)|Comedy                                     |\n",
            "|6      |Heat (1995)                       |Action|Crime|Thriller                      |\n",
            "|7      |Sabrina (1995)                    |Comedy|Romance                             |\n",
            "|8      |Tom and Huck (1995)               |Adventure|Children                         |\n",
            "|9      |Sudden Death (1995)               |Action                                     |\n",
            "|10     |GoldenEye (1995)                  |Action|Adventure|Thriller                  |\n",
            "+-------+----------------------------------+-------------------------------------------+\n",
            "only showing top 10 rows\n",
            "\n"
          ],
          "name": "stdout"
        }
      ]
    },
    {
      "cell_type": "code",
      "metadata": {
        "colab": {
          "base_uri": "https://localhost:8080/"
        },
        "id": "KI_9mY4sm-xk",
        "outputId": "0c7d0346-79c7-44ca-8870-765230e1bee4"
      },
      "source": [
        "ratings_df\n"
      ],
      "execution_count": 9,
      "outputs": [
        {
          "output_type": "execute_result",
          "data": {
            "text/plain": [
              "DataFrame[userId: int, movieId: int, rating: double]"
            ]
          },
          "metadata": {
            "tags": []
          },
          "execution_count": 9
        }
      ]
    },
    {
      "cell_type": "code",
      "metadata": {
        "colab": {
          "base_uri": "https://localhost:8080/"
        },
        "id": "mjGozDwbm8J2",
        "outputId": "a198fe62-a890-4f60-ab19-44765b44c10e"
      },
      "source": [
        "movies_df"
      ],
      "execution_count": 10,
      "outputs": [
        {
          "output_type": "execute_result",
          "data": {
            "text/plain": [
              "DataFrame[movieId: int, title: string, genres: string]"
            ]
          },
          "metadata": {
            "tags": []
          },
          "execution_count": 10
        }
      ]
    },
    {
      "cell_type": "markdown",
      "metadata": {
        "id": "XSuO9fgB_Y2p"
      },
      "source": [
        "# **4. Building the user-based collaborative filtering**\n",
        "\n",
        "\n",
        "\n",
        "> For the this project, we will use the SurPRISE (Simple Python RecommendatIon System Engine) library\n",
        "\n",
        "\n",
        "> This is because it is faster and has an integrated SVD algorithms, a Matrix factorization algoritms\n",
        "\n",
        "\n",
        "\n"
      ]
    },
    {
      "cell_type": "code",
      "metadata": {
        "id": "3gaKcH42qE2g"
      },
      "source": [
        "from surprise import Reader, Dataset, SVD, SVDpp\n",
        "from surprise import accuracy"
      ],
      "execution_count": 11,
      "outputs": []
    },
    {
      "cell_type": "code",
      "metadata": {
        "id": "fWISV0w-EnFQ"
      },
      "source": [
        "# Surprise is only compatible with pandas. So we will convert the pyspark dataframes to pandas dataframes\n",
        "ratings_df_pd =ratings_df.toPandas()"
      ],
      "execution_count": 12,
      "outputs": []
    },
    {
      "cell_type": "code",
      "metadata": {
        "id": "6-MdkDSPEnPD"
      },
      "source": [
        "ratings_pd = pd.read_csv(ratings_file)\n",
        "movies_pd = pd.read_csv(movies_file)"
      ],
      "execution_count": 13,
      "outputs": []
    },
    {
      "cell_type": "code",
      "metadata": {
        "colab": {
          "base_uri": "https://localhost:8080/",
          "height": 406
        },
        "id": "kkDyoI3YGY0l",
        "outputId": "d1fe2de1-ce88-4f69-e3de-2fc4b1445e30"
      },
      "source": [
        "ratings_pd"
      ],
      "execution_count": 14,
      "outputs": [
        {
          "output_type": "execute_result",
          "data": {
            "text/html": [
              "<div>\n",
              "<style scoped>\n",
              "    .dataframe tbody tr th:only-of-type {\n",
              "        vertical-align: middle;\n",
              "    }\n",
              "\n",
              "    .dataframe tbody tr th {\n",
              "        vertical-align: top;\n",
              "    }\n",
              "\n",
              "    .dataframe thead th {\n",
              "        text-align: right;\n",
              "    }\n",
              "</style>\n",
              "<table border=\"1\" class=\"dataframe\">\n",
              "  <thead>\n",
              "    <tr style=\"text-align: right;\">\n",
              "      <th></th>\n",
              "      <th>userId</th>\n",
              "      <th>movieId</th>\n",
              "      <th>rating</th>\n",
              "      <th>timestamp</th>\n",
              "    </tr>\n",
              "  </thead>\n",
              "  <tbody>\n",
              "    <tr>\n",
              "      <th>0</th>\n",
              "      <td>1</td>\n",
              "      <td>1</td>\n",
              "      <td>4.0</td>\n",
              "      <td>964982703</td>\n",
              "    </tr>\n",
              "    <tr>\n",
              "      <th>1</th>\n",
              "      <td>1</td>\n",
              "      <td>3</td>\n",
              "      <td>4.0</td>\n",
              "      <td>964981247</td>\n",
              "    </tr>\n",
              "    <tr>\n",
              "      <th>2</th>\n",
              "      <td>1</td>\n",
              "      <td>6</td>\n",
              "      <td>4.0</td>\n",
              "      <td>964982224</td>\n",
              "    </tr>\n",
              "    <tr>\n",
              "      <th>3</th>\n",
              "      <td>1</td>\n",
              "      <td>47</td>\n",
              "      <td>5.0</td>\n",
              "      <td>964983815</td>\n",
              "    </tr>\n",
              "    <tr>\n",
              "      <th>4</th>\n",
              "      <td>1</td>\n",
              "      <td>50</td>\n",
              "      <td>5.0</td>\n",
              "      <td>964982931</td>\n",
              "    </tr>\n",
              "    <tr>\n",
              "      <th>...</th>\n",
              "      <td>...</td>\n",
              "      <td>...</td>\n",
              "      <td>...</td>\n",
              "      <td>...</td>\n",
              "    </tr>\n",
              "    <tr>\n",
              "      <th>100831</th>\n",
              "      <td>610</td>\n",
              "      <td>166534</td>\n",
              "      <td>4.0</td>\n",
              "      <td>1493848402</td>\n",
              "    </tr>\n",
              "    <tr>\n",
              "      <th>100832</th>\n",
              "      <td>610</td>\n",
              "      <td>168248</td>\n",
              "      <td>5.0</td>\n",
              "      <td>1493850091</td>\n",
              "    </tr>\n",
              "    <tr>\n",
              "      <th>100833</th>\n",
              "      <td>610</td>\n",
              "      <td>168250</td>\n",
              "      <td>5.0</td>\n",
              "      <td>1494273047</td>\n",
              "    </tr>\n",
              "    <tr>\n",
              "      <th>100834</th>\n",
              "      <td>610</td>\n",
              "      <td>168252</td>\n",
              "      <td>5.0</td>\n",
              "      <td>1493846352</td>\n",
              "    </tr>\n",
              "    <tr>\n",
              "      <th>100835</th>\n",
              "      <td>610</td>\n",
              "      <td>170875</td>\n",
              "      <td>3.0</td>\n",
              "      <td>1493846415</td>\n",
              "    </tr>\n",
              "  </tbody>\n",
              "</table>\n",
              "<p>100836 rows × 4 columns</p>\n",
              "</div>"
            ],
            "text/plain": [
              "        userId  movieId  rating   timestamp\n",
              "0            1        1     4.0   964982703\n",
              "1            1        3     4.0   964981247\n",
              "2            1        6     4.0   964982224\n",
              "3            1       47     5.0   964983815\n",
              "4            1       50     5.0   964982931\n",
              "...        ...      ...     ...         ...\n",
              "100831     610   166534     4.0  1493848402\n",
              "100832     610   168248     5.0  1493850091\n",
              "100833     610   168250     5.0  1494273047\n",
              "100834     610   168252     5.0  1493846352\n",
              "100835     610   170875     3.0  1493846415\n",
              "\n",
              "[100836 rows x 4 columns]"
            ]
          },
          "metadata": {
            "tags": []
          },
          "execution_count": 14
        }
      ]
    },
    {
      "cell_type": "code",
      "metadata": {
        "colab": {
          "base_uri": "https://localhost:8080/",
          "height": 406
        },
        "id": "4V3DvYLTnfzy",
        "outputId": "6caa1a3b-0436-4f61-bdf2-ef154d2df7ac"
      },
      "source": [
        "movies_pd"
      ],
      "execution_count": 15,
      "outputs": [
        {
          "output_type": "execute_result",
          "data": {
            "text/html": [
              "<div>\n",
              "<style scoped>\n",
              "    .dataframe tbody tr th:only-of-type {\n",
              "        vertical-align: middle;\n",
              "    }\n",
              "\n",
              "    .dataframe tbody tr th {\n",
              "        vertical-align: top;\n",
              "    }\n",
              "\n",
              "    .dataframe thead th {\n",
              "        text-align: right;\n",
              "    }\n",
              "</style>\n",
              "<table border=\"1\" class=\"dataframe\">\n",
              "  <thead>\n",
              "    <tr style=\"text-align: right;\">\n",
              "      <th></th>\n",
              "      <th>movieId</th>\n",
              "      <th>title</th>\n",
              "      <th>genres</th>\n",
              "    </tr>\n",
              "  </thead>\n",
              "  <tbody>\n",
              "    <tr>\n",
              "      <th>0</th>\n",
              "      <td>1</td>\n",
              "      <td>Toy Story (1995)</td>\n",
              "      <td>Adventure|Animation|Children|Comedy|Fantasy</td>\n",
              "    </tr>\n",
              "    <tr>\n",
              "      <th>1</th>\n",
              "      <td>2</td>\n",
              "      <td>Jumanji (1995)</td>\n",
              "      <td>Adventure|Children|Fantasy</td>\n",
              "    </tr>\n",
              "    <tr>\n",
              "      <th>2</th>\n",
              "      <td>3</td>\n",
              "      <td>Grumpier Old Men (1995)</td>\n",
              "      <td>Comedy|Romance</td>\n",
              "    </tr>\n",
              "    <tr>\n",
              "      <th>3</th>\n",
              "      <td>4</td>\n",
              "      <td>Waiting to Exhale (1995)</td>\n",
              "      <td>Comedy|Drama|Romance</td>\n",
              "    </tr>\n",
              "    <tr>\n",
              "      <th>4</th>\n",
              "      <td>5</td>\n",
              "      <td>Father of the Bride Part II (1995)</td>\n",
              "      <td>Comedy</td>\n",
              "    </tr>\n",
              "    <tr>\n",
              "      <th>...</th>\n",
              "      <td>...</td>\n",
              "      <td>...</td>\n",
              "      <td>...</td>\n",
              "    </tr>\n",
              "    <tr>\n",
              "      <th>9737</th>\n",
              "      <td>193581</td>\n",
              "      <td>Black Butler: Book of the Atlantic (2017)</td>\n",
              "      <td>Action|Animation|Comedy|Fantasy</td>\n",
              "    </tr>\n",
              "    <tr>\n",
              "      <th>9738</th>\n",
              "      <td>193583</td>\n",
              "      <td>No Game No Life: Zero (2017)</td>\n",
              "      <td>Animation|Comedy|Fantasy</td>\n",
              "    </tr>\n",
              "    <tr>\n",
              "      <th>9739</th>\n",
              "      <td>193585</td>\n",
              "      <td>Flint (2017)</td>\n",
              "      <td>Drama</td>\n",
              "    </tr>\n",
              "    <tr>\n",
              "      <th>9740</th>\n",
              "      <td>193587</td>\n",
              "      <td>Bungo Stray Dogs: Dead Apple (2018)</td>\n",
              "      <td>Action|Animation</td>\n",
              "    </tr>\n",
              "    <tr>\n",
              "      <th>9741</th>\n",
              "      <td>193609</td>\n",
              "      <td>Andrew Dice Clay: Dice Rules (1991)</td>\n",
              "      <td>Comedy</td>\n",
              "    </tr>\n",
              "  </tbody>\n",
              "</table>\n",
              "<p>9742 rows × 3 columns</p>\n",
              "</div>"
            ],
            "text/plain": [
              "      movieId  ...                                       genres\n",
              "0           1  ...  Adventure|Animation|Children|Comedy|Fantasy\n",
              "1           2  ...                   Adventure|Children|Fantasy\n",
              "2           3  ...                               Comedy|Romance\n",
              "3           4  ...                         Comedy|Drama|Romance\n",
              "4           5  ...                                       Comedy\n",
              "...       ...  ...                                          ...\n",
              "9737   193581  ...              Action|Animation|Comedy|Fantasy\n",
              "9738   193583  ...                     Animation|Comedy|Fantasy\n",
              "9739   193585  ...                                        Drama\n",
              "9740   193587  ...                             Action|Animation\n",
              "9741   193609  ...                                       Comedy\n",
              "\n",
              "[9742 rows x 3 columns]"
            ]
          },
          "metadata": {
            "tags": []
          },
          "execution_count": 15
        }
      ]
    },
    {
      "cell_type": "code",
      "metadata": {
        "colab": {
          "base_uri": "https://localhost:8080/"
        },
        "id": "0f_GymXyGaqM",
        "outputId": "96bf56ea-af61-407c-e5a0-fc839cfbbca0"
      },
      "source": [
        "ratings_pd.dtypes"
      ],
      "execution_count": 16,
      "outputs": [
        {
          "output_type": "execute_result",
          "data": {
            "text/plain": [
              "userId         int64\n",
              "movieId        int64\n",
              "rating       float64\n",
              "timestamp      int64\n",
              "dtype: object"
            ]
          },
          "metadata": {
            "tags": []
          },
          "execution_count": 16
        }
      ]
    },
    {
      "cell_type": "code",
      "metadata": {
        "id": "CHRaqc-PGas8"
      },
      "source": [
        ""
      ],
      "execution_count": 16,
      "outputs": []
    },
    {
      "cell_type": "code",
      "metadata": {
        "id": "aSXf6o97EaGK"
      },
      "source": [
        "reader = Reader(rating_scale=(1, 5))\n",
        "dataset = Dataset.load_from_df(ratings_pd[['userId', 'movieId', 'rating']], reader=reader)\n",
        "\n",
        "svd = SVD(n_factors=50)\n",
        "svd_plusplus = SVDpp(n_factors=50)"
      ],
      "execution_count": 17,
      "outputs": []
    },
    {
      "cell_type": "code",
      "metadata": {
        "id": "S4tc8M6kGsJg",
        "colab": {
          "base_uri": "https://localhost:8080/"
        },
        "outputId": "e56bf5bd-dd69-4de6-8dff-013d6dba5eed"
      },
      "source": [
        "# Build the the training set and fit the model\n",
        "\n",
        "trainset = dataset.build_full_trainset()\n",
        "\n",
        "svd.fit(trainset)  # old version use svd.train"
      ],
      "execution_count": 18,
      "outputs": [
        {
          "output_type": "execute_result",
          "data": {
            "text/plain": [
              "<surprise.prediction_algorithms.matrix_factorization.SVD at 0x7f44fc326390>"
            ]
          },
          "metadata": {
            "tags": []
          },
          "execution_count": 18
        }
      ]
    },
    {
      "cell_type": "code",
      "metadata": {
        "id": "q2ajZeL3GtSu"
      },
      "source": [
        "id_2_names = dict()\n",
        "\n",
        "for idx, names in zip(movies_pd['movieId'], movies_pd['title']):\n",
        "    id_2_names[idx] = names"
      ],
      "execution_count": 20,
      "outputs": []
    },
    {
      "cell_type": "code",
      "metadata": {
        "id": "H-0PObYbo5Au"
      },
      "source": [
        "def create_test_set(user_id):\n",
        "    \n",
        "    fill = trainset.global_mean\n",
        "    anti_testset = list()\n",
        "    u = trainset.to_inner_uid(user_id)\n",
        "    \n",
        "    # ur == users ratings\n",
        "    user_items = set([item_inner_id for (item_inner_id, rating) in trainset.ur[u]])\n",
        "    \n",
        "    anti_testset += [(trainset.to_raw_uid(u), trainset.to_raw_iid(i), fill) for\n",
        "                            i in trainset.all_items() if i not in user_items]\n",
        "    \n",
        "    return anti_testset"
      ],
      "execution_count": 28,
      "outputs": []
    },
    {
      "cell_type": "markdown",
      "metadata": {
        "id": "a0Zm0z_bpN2g"
      },
      "source": [
        "Now let us create a fuction to implement a top 10 movies rated by a user"
      ]
    },
    {
      "cell_type": "code",
      "metadata": {
        "id": "cjtAymEwo8eX"
      },
      "source": [
        "def top_recommendations(user_id, num_recommender=10):\n",
        "    \n",
        "    testSet = create_test_set(user_id)\n",
        "    predict = svd.test(testSet)  # we can change to SVD++ later\n",
        "    \n",
        "    recommendation = list()\n",
        "    \n",
        "    for userID, movieID, actualRating, estimatedRating, _ in predict:\n",
        "        intMovieID = int(movieID)\n",
        "        recommendation.append((intMovieID, estimatedRating))\n",
        "        \n",
        "    recommendation.sort(key=lambda x: x[1], reverse=True)\n",
        "    \n",
        "    movie_names = []\n",
        "    movie_ratings = []\n",
        "    \n",
        "    for name, ratings in recommendation[:20]:\n",
        "        movie_names.append(id_2_names[name])\n",
        "        movie_ratings.append(ratings)\n",
        "        \n",
        "    movie_dataframe =  pd.DataFrame({'movie_names': movie_names,\n",
        "                                     'rating': movie_ratings})\n",
        "    \n",
        "    \n",
        "    return movie_dataframe.sort_values('rating', ascending=False)[['movie_names', 'rating']].head(num_recommender)\n",
        "    \n",
        "   "
      ],
      "execution_count": 29,
      "outputs": []
    },
    {
      "cell_type": "code",
      "metadata": {
        "colab": {
          "base_uri": "https://localhost:8080/",
          "height": 347
        },
        "id": "w26eSyjDpVVZ",
        "outputId": "b762b886-f288-43eb-d960-87d40fbdd749"
      },
      "source": [
        "# Now let us simulate the top 10 movies recommended movies for user 600\n",
        "\n",
        "top_recommendations(600, num_recommender=10)"
      ],
      "execution_count": 35,
      "outputs": [
        {
          "output_type": "execute_result",
          "data": {
            "text/html": [
              "<div>\n",
              "<style scoped>\n",
              "    .dataframe tbody tr th:only-of-type {\n",
              "        vertical-align: middle;\n",
              "    }\n",
              "\n",
              "    .dataframe tbody tr th {\n",
              "        vertical-align: top;\n",
              "    }\n",
              "\n",
              "    .dataframe thead th {\n",
              "        text-align: right;\n",
              "    }\n",
              "</style>\n",
              "<table border=\"1\" class=\"dataframe\">\n",
              "  <thead>\n",
              "    <tr style=\"text-align: right;\">\n",
              "      <th></th>\n",
              "      <th>movie_names</th>\n",
              "      <th>rating</th>\n",
              "    </tr>\n",
              "  </thead>\n",
              "  <tbody>\n",
              "    <tr>\n",
              "      <th>0</th>\n",
              "      <td>Jaws (1975)</td>\n",
              "      <td>4.117130</td>\n",
              "    </tr>\n",
              "    <tr>\n",
              "      <th>1</th>\n",
              "      <td>Glory (1989)</td>\n",
              "      <td>4.116117</td>\n",
              "    </tr>\n",
              "    <tr>\n",
              "      <th>2</th>\n",
              "      <td>12 Angry Men (1957)</td>\n",
              "      <td>4.103434</td>\n",
              "    </tr>\n",
              "    <tr>\n",
              "      <th>3</th>\n",
              "      <td>Seven Samurai (Shichinin no samurai) (1954)</td>\n",
              "      <td>4.089558</td>\n",
              "    </tr>\n",
              "    <tr>\n",
              "      <th>4</th>\n",
              "      <td>Outlaw Josey Wales, The (1976)</td>\n",
              "      <td>4.060724</td>\n",
              "    </tr>\n",
              "    <tr>\n",
              "      <th>5</th>\n",
              "      <td>Streetcar Named Desire, A (1951)</td>\n",
              "      <td>4.030000</td>\n",
              "    </tr>\n",
              "    <tr>\n",
              "      <th>6</th>\n",
              "      <td>Boot, Das (Boat, The) (1981)</td>\n",
              "      <td>3.989496</td>\n",
              "    </tr>\n",
              "    <tr>\n",
              "      <th>7</th>\n",
              "      <td>Three Colors: Red (Trois couleurs: Rouge) (1994)</td>\n",
              "      <td>3.968871</td>\n",
              "    </tr>\n",
              "    <tr>\n",
              "      <th>8</th>\n",
              "      <td>Man Bites Dog (C'est arrivé près de chez vous)...</td>\n",
              "      <td>3.957942</td>\n",
              "    </tr>\n",
              "    <tr>\n",
              "      <th>9</th>\n",
              "      <td>One Flew Over the Cuckoo's Nest (1975)</td>\n",
              "      <td>3.920642</td>\n",
              "    </tr>\n",
              "  </tbody>\n",
              "</table>\n",
              "</div>"
            ],
            "text/plain": [
              "                                         movie_names    rating\n",
              "0                                        Jaws (1975)  4.117130\n",
              "1                                       Glory (1989)  4.116117\n",
              "2                                12 Angry Men (1957)  4.103434\n",
              "3        Seven Samurai (Shichinin no samurai) (1954)  4.089558\n",
              "4                     Outlaw Josey Wales, The (1976)  4.060724\n",
              "5                   Streetcar Named Desire, A (1951)  4.030000\n",
              "6                       Boot, Das (Boat, The) (1981)  3.989496\n",
              "7   Three Colors: Red (Trois couleurs: Rouge) (1994)  3.968871\n",
              "8  Man Bites Dog (C'est arrivé près de chez vous)...  3.957942\n",
              "9             One Flew Over the Cuckoo's Nest (1975)  3.920642"
            ]
          },
          "metadata": {
            "tags": []
          },
          "execution_count": 35
        }
      ]
    },
    {
      "cell_type": "code",
      "metadata": {
        "id": "tqTvSa3tq2Ed"
      },
      "source": [
        ""
      ],
      "execution_count": 35,
      "outputs": []
    },
    {
      "cell_type": "code",
      "metadata": {
        "id": "wnhC2d24q2HK"
      },
      "source": [
        ""
      ],
      "execution_count": 35,
      "outputs": []
    },
    {
      "cell_type": "markdown",
      "metadata": {
        "id": "947Nk3t0q3Aa"
      },
      "source": [
        "# Model evaluation"
      ]
    },
    {
      "cell_type": "code",
      "metadata": {
        "id": "Kq0pUXj2q2J1"
      },
      "source": [
        "# Than predict ratings for all pairs (u, i) that are NOT in the training set.\n",
        "testset = trainset.build_anti_testset()\n",
        "\n",
        "predictions_svd = svd.test(testset)"
      ],
      "execution_count": 36,
      "outputs": []
    },
    {
      "cell_type": "code",
      "metadata": {
        "id": "0NTdaSIqq__T"
      },
      "source": [
        ""
      ],
      "execution_count": 36,
      "outputs": []
    },
    {
      "cell_type": "code",
      "metadata": {
        "colab": {
          "base_uri": "https://localhost:8080/"
        },
        "id": "TIlWjtDerAEi",
        "outputId": "30f3c746-8641-4a2b-d88f-9ddfb1c00d22"
      },
      "source": [
        "print('SVD - RMSE:', accuracy.rmse(predictions_svd, verbose=False))\n",
        "print('SVD - MAE:', accuracy.mae(predictions_svd, verbose=False))"
      ],
      "execution_count": 38,
      "outputs": [
        {
          "output_type": "stream",
          "text": [
            "SVD - RMSE: 0.48835513445255857\n",
            "SVD - MAE: 0.37746508523653777\n"
          ],
          "name": "stdout"
        }
      ]
    },
    {
      "cell_type": "markdown",
      "metadata": {
        "id": "SpjtUKiowZl8"
      },
      "source": [
        "From the above evaluation metrics, the model obtained an RMSE of 0.48835513445255857 during the testing phase which is pretty good"
      ]
    },
    {
      "cell_type": "markdown",
      "metadata": {
        "id": "xF-xnxSpwgvC"
      },
      "source": [
        "## Testing the model on a user\n",
        "Now let's use SVD to predict the rating that User with ID 500 will give to a random movie (let's say with Movie ID 100)."
      ]
    },
    {
      "cell_type": "code",
      "metadata": {
        "colab": {
          "base_uri": "https://localhost:8080/"
        },
        "id": "cm5iAWXcsd-5",
        "outputId": "fa151ce2-d185-4424-afad-4c3d52f941fe"
      },
      "source": [
        "svd.predict(600, 1)"
      ],
      "execution_count": 40,
      "outputs": [
        {
          "output_type": "execute_result",
          "data": {
            "text/plain": [
              "Prediction(uid=600, iid=1, r_ui=None, est=3.3225038943247345, details={'was_impossible': False})"
            ]
          },
          "metadata": {
            "tags": []
          },
          "execution_count": 40
        }
      ]
    },
    {
      "cell_type": "markdown",
      "metadata": {
        "id": "F3t6lIA8v9Ck"
      },
      "source": [
        "For movie with ID 100, I get an estimated prediction of 2.6362. The recommender system works purely on the basis of an assigned movie ID and tries to predict ratings based on how the other users have predicted the movie."
      ]
    },
    {
      "cell_type": "code",
      "metadata": {
        "id": "oejUof3Rv8Vd"
      },
      "source": [
        ""
      ],
      "execution_count": null,
      "outputs": []
    },
    {
      "cell_type": "markdown",
      "metadata": {
        "id": "zvFWvGqHwAh9"
      },
      "source": [
        "# Conclusion\n",
        "In this notebook, I attempted to build a model-based Collaborative Filtering movie recommendation sytem based on latent features from matrix factorization method called SVD. As it captures the underlying features driving the raw data, it can scale significantly better to massive datasets as well as make better recommendations based on user's tastes."
      ]
    }
  ]
}